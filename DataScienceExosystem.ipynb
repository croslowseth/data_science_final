{
 "cells": [
  {
   "cell_type": "markdown",
   "id": "bfb0d009-19f4-4c6a-af78-77ef0e9cd7cf",
   "metadata": {},
   "source": [
    "# Data Science Tools and Exosystem"
   ]
  },
  {
   "cell_type": "markdown",
   "id": "259d8045-4ee3-4cf9-94ee-c1abb3a0545b",
   "metadata": {},
   "source": [
    "In this notebook, Data Science Tools and Ecosystem are summarized"
   ]
  },
  {
   "cell_type": "markdown",
   "id": "0df93e27-3d3d-4ef3-b2c5-f8bbc932f17c",
   "metadata": {},
   "source": [
    "Some of the popular languages that Data Scientists use are:\n",
    "1. Python\n",
    "2. R\n",
    "3. Scala"
   ]
  },
  {
   "cell_type": "markdown",
   "id": "468f81e1-d9df-4112-9faf-1d2f3dae6298",
   "metadata": {},
   "source": [
    "Some of the commonly used libraries used by Data Scientists include:\n",
    "1. matplotlib\n",
    "2. pandas\n",
    "3. scipy"
   ]
  },
  {
   "cell_type": "markdown",
   "id": "9793821b-3911-4aed-bde0-c1512195d1e1",
   "metadata": {},
   "source": [
    "|Data Science Tools|\n",
    "| --- |\n",
    "|jupyter notebooks|\n",
    "|spyder|\n",
    "|Visual Studio Code|"
   ]
  },
  {
   "cell_type": "markdown",
   "id": "fb95b8fe-66e6-4929-84f7-b974365ad762",
   "metadata": {},
   "source": [
    "### Below are a few examples of evaluating arithmetic expressions in Python"
   ]
  },
  {
   "cell_type": "code",
   "execution_count": 1,
   "id": "02de78f2-678f-4be1-b07a-c8b95344edc7",
   "metadata": {},
   "outputs": [
    {
     "data": {
      "text/plain": [
       "17"
      ]
     },
     "execution_count": 1,
     "metadata": {},
     "output_type": "execute_result"
    }
   ],
   "source": [
    "#This is a simple arithmetic expression to multiply then add integers\n",
    "(3*4)+5"
   ]
  },
  {
   "cell_type": "code",
   "execution_count": 2,
   "id": "64014b42-ef4a-4bcf-9f80-f70da99f2940",
   "metadata": {},
   "outputs": [
    {
     "data": {
      "text/plain": [
       "3.3333333333333335"
      ]
     },
     "execution_count": 2,
     "metadata": {},
     "output_type": "execute_result"
    }
   ],
   "source": [
    "#This will convert 200 minutes to hours by dividing by 60\n",
    "200 / 60"
   ]
  },
  {
   "cell_type": "markdown",
   "id": "3e15068e-610d-449f-8a24-2beb88f71cdb",
   "metadata": {},
   "source": [
    "**Objectives:**\n",
    "- List popular languages for Data Science\n",
    "- Introduction to using GitHub\n",
    "- Learning how to use Jupyter Notebooks"
   ]
  },
  {
   "cell_type": "markdown",
   "id": "c839b710-ea8d-4189-928e-9859302da89b",
   "metadata": {},
   "source": [
    "## Author\n",
    "Seth"
   ]
  },
  {
   "cell_type": "code",
   "execution_count": null,
   "id": "28dcf69f-e56e-4a93-aa9b-5f9f8a8cc74c",
   "metadata": {},
   "outputs": [],
   "source": []
  }
 ],
 "metadata": {
  "kernelspec": {
   "display_name": "Python 3 (ipykernel)",
   "language": "python",
   "name": "python3"
  },
  "language_info": {
   "codemirror_mode": {
    "name": "ipython",
    "version": 3
   },
   "file_extension": ".py",
   "mimetype": "text/x-python",
   "name": "python",
   "nbconvert_exporter": "python",
   "pygments_lexer": "ipython3",
   "version": "3.9.18"
  }
 },
 "nbformat": 4,
 "nbformat_minor": 5
}
